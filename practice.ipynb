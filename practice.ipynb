{
 "cells": [
  {
   "cell_type": "markdown",
   "id": "7f2ba734",
   "metadata": {},
   "source": [
    "# 감성 분석 모델 학습 및 추론"
   ]
  },
  {
   "cell_type": "markdown",
   "id": "62585e3a",
   "metadata": {},
   "source": [
    "### 1. 데이터 로드"
   ]
  },
  {
   "cell_type": "code",
   "execution_count": 56,
   "id": "8210c481",
   "metadata": {},
   "outputs": [],
   "source": [
    "import pandas as pd"
   ]
  },
  {
   "cell_type": "code",
   "execution_count": 57,
   "id": "60e1d3da",
   "metadata": {},
   "outputs": [],
   "source": [
    "data = pd.read_csv('/Users/sanbyeol/Desktop/SKN17/SKN17_mountainStar/nlp/05_text_classification/finance_data_sentimantal.csv')"
   ]
  },
  {
   "cell_type": "markdown",
   "id": "c8a1b739",
   "metadata": {},
   "source": [
    "### 2. 데이터 전처리"
   ]
  },
  {
   "cell_type": "code",
   "execution_count": 58,
   "id": "c0876cc1",
   "metadata": {},
   "outputs": [
    {
     "data": {
      "text/html": [
       "<div>\n",
       "<style scoped>\n",
       "    .dataframe tbody tr th:only-of-type {\n",
       "        vertical-align: middle;\n",
       "    }\n",
       "\n",
       "    .dataframe tbody tr th {\n",
       "        vertical-align: top;\n",
       "    }\n",
       "\n",
       "    .dataframe thead th {\n",
       "        text-align: right;\n",
       "    }\n",
       "</style>\n",
       "<table border=\"1\" class=\"dataframe\">\n",
       "  <thead>\n",
       "    <tr style=\"text-align: right;\">\n",
       "      <th></th>\n",
       "      <th>labels</th>\n",
       "      <th>sentence</th>\n",
       "      <th>kor_sentence</th>\n",
       "    </tr>\n",
       "  </thead>\n",
       "  <tbody>\n",
       "    <tr>\n",
       "      <th>0</th>\n",
       "      <td>neutral</td>\n",
       "      <td>According to Gran, the company has no plans to...</td>\n",
       "      <td>Gran에 따르면, 그 회사는 회사가 성장하고 있는 곳이지만, 모든 생산을 러시아로...</td>\n",
       "    </tr>\n",
       "    <tr>\n",
       "      <th>1</th>\n",
       "      <td>neutral</td>\n",
       "      <td>Technopolis plans to develop in stages an area...</td>\n",
       "      <td>테크노폴리스는 컴퓨터 기술과 통신 분야에서 일하는 회사들을 유치하기 위해 10만 평...</td>\n",
       "    </tr>\n",
       "    <tr>\n",
       "      <th>2</th>\n",
       "      <td>negative</td>\n",
       "      <td>The international electronic industry company ...</td>\n",
       "      <td>국제 전자산업 회사인 엘코텍은 탈린 공장에서 수십 명의 직원을 해고했으며, 이전의 ...</td>\n",
       "    </tr>\n",
       "    <tr>\n",
       "      <th>3</th>\n",
       "      <td>positive</td>\n",
       "      <td>With the new production plant the company woul...</td>\n",
       "      <td>새로운 생산공장으로 인해 회사는 예상되는 수요 증가를 충족시킬 수 있는 능력을 증가...</td>\n",
       "    </tr>\n",
       "    <tr>\n",
       "      <th>4</th>\n",
       "      <td>positive</td>\n",
       "      <td>According to the company's updated strategy fo...</td>\n",
       "      <td>2009-2012년 회사의 업데이트된 전략에 따르면, Basware는 20% - 4...</td>\n",
       "    </tr>\n",
       "  </tbody>\n",
       "</table>\n",
       "</div>"
      ],
      "text/plain": [
       "     labels                                           sentence  \\\n",
       "0   neutral  According to Gran, the company has no plans to...   \n",
       "1   neutral  Technopolis plans to develop in stages an area...   \n",
       "2  negative  The international electronic industry company ...   \n",
       "3  positive  With the new production plant the company woul...   \n",
       "4  positive  According to the company's updated strategy fo...   \n",
       "\n",
       "                                        kor_sentence  \n",
       "0  Gran에 따르면, 그 회사는 회사가 성장하고 있는 곳이지만, 모든 생산을 러시아로...  \n",
       "1  테크노폴리스는 컴퓨터 기술과 통신 분야에서 일하는 회사들을 유치하기 위해 10만 평...  \n",
       "2  국제 전자산업 회사인 엘코텍은 탈린 공장에서 수십 명의 직원을 해고했으며, 이전의 ...  \n",
       "3  새로운 생산공장으로 인해 회사는 예상되는 수요 증가를 충족시킬 수 있는 능력을 증가...  \n",
       "4  2009-2012년 회사의 업데이트된 전략에 따르면, Basware는 20% - 4...  "
      ]
     },
     "execution_count": 58,
     "metadata": {},
     "output_type": "execute_result"
    }
   ],
   "source": [
    "data.head()"
   ]
  },
  {
   "cell_type": "code",
   "execution_count": 59,
   "id": "f71802e7",
   "metadata": {},
   "outputs": [],
   "source": [
    "#한글만 포함 \n",
    "data = data.drop(columns='sentence')"
   ]
  },
  {
   "cell_type": "code",
   "execution_count": 60,
   "id": "bd551121",
   "metadata": {},
   "outputs": [
    {
     "data": {
      "text/plain": [
       "labels          0\n",
       "kor_sentence    0\n",
       "dtype: int64"
      ]
     },
     "execution_count": 60,
     "metadata": {},
     "output_type": "execute_result"
    }
   ],
   "source": [
    "# 결측치 처리\n",
    "data.isna().sum()"
   ]
  },
  {
   "cell_type": "code",
   "execution_count": 61,
   "id": "69ded270",
   "metadata": {},
   "outputs": [
    {
     "data": {
      "text/plain": [
       "array(['neutral', 'negative', 'positive'], dtype=object)"
      ]
     },
     "execution_count": 61,
     "metadata": {},
     "output_type": "execute_result"
    }
   ],
   "source": [
    "# 감정 인코딩 \n",
    "data['labels'].unique()"
   ]
  },
  {
   "cell_type": "code",
   "execution_count": 62,
   "id": "5460c963",
   "metadata": {},
   "outputs": [],
   "source": [
    "mapping = {'neutral':0, 'negative':1, 'positive':2}\n",
    "data['labels'] = data['labels'].map(mapping)"
   ]
  },
  {
   "cell_type": "code",
   "execution_count": null,
   "id": "c6503749",
   "metadata": {},
   "outputs": [],
   "source": [
    "# 한글 토큰화 전처리 (특수문자 처리, 어간 추출, 불용어 처리) -> 함수\n",
    "from konlpy.tag import Okt\n",
    "import re\n",
    "\n",
    "okt = Okt()\n",
    "\n",
    "# 불용어 파일\n",
    "ko_stopwords = pd.read_csv(\"ko_stopwords.txt\", header=None, names=[\"word\"])\n",
    "ko_stopwords = ko_stopwords[\"word\"].tolist()\n",
    "\n",
    "\n",
    "def preprocess_korean(text):\n",
    "    # 1) 특수문자 제거 \n",
    "    text =  re.sub(r'[^가-힣\\s]', ' ', text)\n",
    "    \n",
    "    # 2) 형태소 분석 + 어간 추출\n",
    "    tokens = okt.morphs(text, stem=True)\n",
    "    \n",
    "    # 3) 불용어 제거\n",
    "    tokens = [t for t in tokens if t not in ko_stopwords and len(t) > 1]\n",
    "    \n",
    "    return tokens"
   ]
  },
  {
   "cell_type": "code",
   "execution_count": 64,
   "id": "f3298924",
   "metadata": {},
   "outputs": [
    {
     "data": {
      "text/html": [
       "<div>\n",
       "<style scoped>\n",
       "    .dataframe tbody tr th:only-of-type {\n",
       "        vertical-align: middle;\n",
       "    }\n",
       "\n",
       "    .dataframe tbody tr th {\n",
       "        vertical-align: top;\n",
       "    }\n",
       "\n",
       "    .dataframe thead th {\n",
       "        text-align: right;\n",
       "    }\n",
       "</style>\n",
       "<table border=\"1\" class=\"dataframe\">\n",
       "  <thead>\n",
       "    <tr style=\"text-align: right;\">\n",
       "      <th></th>\n",
       "      <th>labels</th>\n",
       "      <th>kor_sentence</th>\n",
       "      <th>tokens</th>\n",
       "    </tr>\n",
       "  </thead>\n",
       "  <tbody>\n",
       "    <tr>\n",
       "      <th>0</th>\n",
       "      <td>0</td>\n",
       "      <td>Gran에 따르면, 그 회사는 회사가 성장하고 있는 곳이지만, 모든 생산을 러시아로...</td>\n",
       "      <td>[따르다, 회사, 회사, 성장하다, 모든, 생산, 러시아, 옮기다, 계획, 없다, 하다]</td>\n",
       "    </tr>\n",
       "    <tr>\n",
       "      <th>1</th>\n",
       "      <td>0</td>\n",
       "      <td>테크노폴리스는 컴퓨터 기술과 통신 분야에서 일하는 회사들을 유치하기 위해 10만 평...</td>\n",
       "      <td>[테크노, 폴리스, 컴퓨터, 기술, 통신, 분야, 하다, 회사, 유치하다, 위해, ...</td>\n",
       "    </tr>\n",
       "    <tr>\n",
       "      <th>2</th>\n",
       "      <td>1</td>\n",
       "      <td>국제 전자산업 회사인 엘코텍은 탈린 공장에서 수십 명의 직원을 해고했으며, 이전의 ...</td>\n",
       "      <td>[국제, 산업, 회사, 엘코텍, 탈린, 공장, 수십, 명의, 직원, 해고, 하다, ...</td>\n",
       "    </tr>\n",
       "    <tr>\n",
       "      <th>3</th>\n",
       "      <td>2</td>\n",
       "      <td>새로운 생산공장으로 인해 회사는 예상되는 수요 증가를 충족시킬 수 있는 능력을 증가...</td>\n",
       "      <td>[새롭다, 생산, 공장, 인하다, 회사, 예상, 되다, 수요, 증가, 충족, 능력,...</td>\n",
       "    </tr>\n",
       "    <tr>\n",
       "      <th>4</th>\n",
       "      <td>2</td>\n",
       "      <td>2009-2012년 회사의 업데이트된 전략에 따르면, Basware는 20% - 4...</td>\n",
       "      <td>[회사, 업데이트, 되다, 전략, 따르다, 늘다, 범위, 장기, 매출, 성장, 목표...</td>\n",
       "    </tr>\n",
       "  </tbody>\n",
       "</table>\n",
       "</div>"
      ],
      "text/plain": [
       "   labels                                       kor_sentence  \\\n",
       "0       0  Gran에 따르면, 그 회사는 회사가 성장하고 있는 곳이지만, 모든 생산을 러시아로...   \n",
       "1       0  테크노폴리스는 컴퓨터 기술과 통신 분야에서 일하는 회사들을 유치하기 위해 10만 평...   \n",
       "2       1  국제 전자산업 회사인 엘코텍은 탈린 공장에서 수십 명의 직원을 해고했으며, 이전의 ...   \n",
       "3       2  새로운 생산공장으로 인해 회사는 예상되는 수요 증가를 충족시킬 수 있는 능력을 증가...   \n",
       "4       2  2009-2012년 회사의 업데이트된 전략에 따르면, Basware는 20% - 4...   \n",
       "\n",
       "                                              tokens  \n",
       "0  [따르다, 회사, 회사, 성장하다, 모든, 생산, 러시아, 옮기다, 계획, 없다, 하다]  \n",
       "1  [테크노, 폴리스, 컴퓨터, 기술, 통신, 분야, 하다, 회사, 유치하다, 위해, ...  \n",
       "2  [국제, 산업, 회사, 엘코텍, 탈린, 공장, 수십, 명의, 직원, 해고, 하다, ...  \n",
       "3  [새롭다, 생산, 공장, 인하다, 회사, 예상, 되다, 수요, 증가, 충족, 능력,...  \n",
       "4  [회사, 업데이트, 되다, 전략, 따르다, 늘다, 범위, 장기, 매출, 성장, 목표...  "
      ]
     },
     "execution_count": 64,
     "metadata": {},
     "output_type": "execute_result"
    }
   ],
   "source": [
    "data['tokens'] = data['kor_sentence'].map(preprocess_korean)\n",
    "data[:5]"
   ]
  },
  {
   "cell_type": "code",
   "execution_count": 65,
   "id": "3655a9a6",
   "metadata": {},
   "outputs": [],
   "source": [
    "# 정수 인코딩 \n",
    "\n",
    "from tensorflow.keras.preprocessing.text import Tokenizer\n",
    "from tensorflow.keras.preprocessing.sequence import pad_sequences\n",
    "import torch\n",
    "\n",
    "NUM_WORDS = 10000   # 너무 작으면 OOV가 많아짐\n",
    "OOV_TOKEN = \"<OOV>\"\n",
    "MAX_LEN = 50\n",
    "\n",
    "texts_for_tokenizer = [\" \".join(toks) for toks in data['tokens']]\n",
    "\n",
    "tokenizer = Tokenizer(num_words=NUM_WORDS, oov_token=OOV_TOKEN)\n",
    "tokenizer.fit_on_texts(texts_for_tokenizer)\n",
    "\n",
    "sequences = tokenizer.texts_to_sequences(texts_for_tokenizer)"
   ]
  },
  {
   "cell_type": "code",
   "execution_count": 66,
   "id": "be09d296",
   "metadata": {},
   "outputs": [],
   "source": [
    "# 패딩\n",
    "\n",
    "padded = pad_sequences(sequences, maxlen=MAX_LEN, padding='post', truncating='post')\n"
   ]
  },
  {
   "cell_type": "code",
   "execution_count": 67,
   "id": "f605629d",
   "metadata": {},
   "outputs": [
    {
     "name": "stdout",
     "output_type": "stream",
     "text": [
      "원문 토큰: ['국제', '산업', '회사', '엘코텍', '탈린', '공장', '수십', '명의', '직원', '해고', '하다', '이전', '해고', '와는', '달리', '회사', '사무직', '직원', '줄이다', '일간', '포스', '메스', '보도', '하다']\n",
      "정수 인코딩: [237, 63, 7, 323, 662, 37, 1712, 80, 51, 163, 2, 105, 163, 2595, 2055, 7, 2056, 51, 586, 1300, 1485, 3604, 286, 2]\n",
      "패딩 결과:\n",
      "[ 237   63    7  323  662   37 1712   80   51  163    2  105  163 2595\n",
      " 2055    7 2056   51  586 1300 1485 3604  286    2    0    0    0    0\n",
      "    0    0    0    0    0    0    0    0    0    0    0    0    0    0\n",
      "    0    0    0    0    0    0    0    0]\n"
     ]
    }
   ],
   "source": [
    "# 원본 토큰 / 정수 인코딩 / 패딩 결과 비교\n",
    "\n",
    "print(\"원문 토큰:\", data['tokens'].iloc[i])\n",
    "print(\"정수 인코딩:\", sequences[i])\n",
    "print(\"패딩 결과:\")\n",
    "print(padded[i])\n"
   ]
  },
  {
   "cell_type": "code",
   "execution_count": 68,
   "id": "839a24a0",
   "metadata": {},
   "outputs": [
    {
     "name": "stdout",
     "output_type": "stream",
     "text": [
      "단어 사전 크기: 6653\n"
     ]
    }
   ],
   "source": [
    "print(\"단어 사전 크기:\", len(tokenizer.word_index))"
   ]
  },
  {
   "cell_type": "code",
   "execution_count": 69,
   "id": "183dd295",
   "metadata": {},
   "outputs": [
    {
     "name": "stdout",
     "output_type": "stream",
     "text": [
      "[0 0 1 ... 1 1 1]\n"
     ]
    }
   ],
   "source": [
    "labels = data['labels'].values\n",
    "print(labels)"
   ]
  },
  {
   "cell_type": "code",
   "execution_count": null,
   "id": "0c25ba87",
   "metadata": {},
   "outputs": [
    {
     "name": "stdout",
     "output_type": "stream",
     "text": [
      "torch.Size([4846, 50]) torch.Size([4846])\n"
     ]
    }
   ],
   "source": [
    "# Torch 텐서\n",
    "X = torch.tensor(padded, dtype=torch.long)\n",
    "y = torch.tensor(labels, dtype=torch.long)   # 다중분류\n",
    "print(X.shape, y.shape)"
   ]
  },
  {
   "cell_type": "code",
   "execution_count": 71,
   "id": "640c04ec",
   "metadata": {},
   "outputs": [
    {
     "name": "stdout",
     "output_type": "stream",
     "text": [
      "VOCAB_SIZE: 6654\n"
     ]
    }
   ],
   "source": [
    "VOCAB_SIZE = min(NUM_WORDS, len(tokenizer.word_index) + 1)\n",
    "print(\"VOCAB_SIZE:\", VOCAB_SIZE)"
   ]
  },
  {
   "cell_type": "markdown",
   "id": "53169547",
   "metadata": {},
   "source": [
    "### 3. 모델 정의 및 생성"
   ]
  },
  {
   "cell_type": "code",
   "execution_count": 72,
   "id": "5ad27f95",
   "metadata": {},
   "outputs": [],
   "source": [
    "# 데이터 셋 학습/평가 분리\n",
    "\n",
    "from torch.utils.data import TensorDataset, random_split, DataLoader\n",
    "import torch\n",
    "import torch.nn as nn\n",
    "import torch.optim as optim\n",
    "\n",
    "dataset = TensorDataset(X, y)\n",
    "train_size = int(len(dataset) * 0.8)\n",
    "val_size   = len(dataset) - train_size\n",
    "\n",
    "train_ds, val_ds = random_split(dataset, [train_size, val_size], generator=torch.Generator().manual_seed(42))\n",
    "train_loader = DataLoader(train_ds, batch_size=64, shuffle=True)\n",
    "val_loader   = DataLoader(val_ds, batch_size=64, shuffle=False)"
   ]
  },
  {
   "cell_type": "code",
   "execution_count": null,
   "id": "ec8feeb4",
   "metadata": {},
   "outputs": [],
   "source": [
    "# 모델 정의\n",
    "\n",
    "class SentimentLSTM(nn.Module):\n",
    "    def __init__(self, vocab_size, embed_dim=64, hidden_dim=128, num_classes=3, pad_idx=0, dropout=0.3):\n",
    "        super().__init__()\n",
    "        self.embedding = nn.Embedding(vocab_size, embed_dim, padding_idx=pad_idx)\n",
    "        self.lstm = nn.LSTM(embed_dim, hidden_dim, batch_first=True)\n",
    "        self.dropout = nn.Dropout(dropout)\n",
    "        self.fc = nn.Linear(hidden_dim, num_classes)\n",
    "\n",
    "    def forward(self, x):\n",
    "        emb = self.embedding(x)           \n",
    "        _, (h, _) = self.lstm(emb)        \n",
    "        h = self.dropout(h[-1])          \n",
    "        return self.fc(h)               \n"
   ]
  },
  {
   "cell_type": "code",
   "execution_count": 74,
   "id": "46769bf9",
   "metadata": {},
   "outputs": [
    {
     "name": "stdout",
     "output_type": "stream",
     "text": [
      "SentimentLSTM(\n",
      "  (embedding): Embedding(6654, 64, padding_idx=0)\n",
      "  (lstm): LSTM(64, 128, batch_first=True)\n",
      "  (dropout): Dropout(p=0.3, inplace=False)\n",
      "  (fc): Linear(in_features=128, out_features=3, bias=True)\n",
      ")\n"
     ]
    }
   ],
   "source": [
    "# 모델 인스턴스 생성\n",
    "VOCAB_SIZE = min(NUM_WORDS, len(tokenizer.word_index) + 1)  # Tokenizer 기반\n",
    "EMBEDDING_DIM = 64\n",
    "HIDDEN_DIM = 128\n",
    "OUTPUT_DIM = 3   # 감성(중립, 부정, 긍정)\n",
    "\n",
    "lstm_model = SentimentLSTM(\n",
    "    vocab_size=VOCAB_SIZE,\n",
    "    embed_dim=EMBEDDING_DIM,\n",
    "    hidden_dim=HIDDEN_DIM,\n",
    "    num_classes =OUTPUT_DIM)\n",
    "\n",
    "print(lstm_model)"
   ]
  },
  {
   "cell_type": "markdown",
   "id": "b36ae6d0",
   "metadata": {},
   "source": [
    "### 4. 모델 학습"
   ]
  },
  {
   "cell_type": "code",
   "execution_count": null,
   "id": "bc49f5cf",
   "metadata": {},
   "outputs": [
    {
     "name": "stdout",
     "output_type": "stream",
     "text": [
      "[1/30] Train Loss: 0.9615, Train Acc: 0.5903 | Val Loss: 0.9109, Val Acc: 0.6052\n",
      "[2/30] Train Loss: 0.9341, Train Acc: 0.5913 | Val Loss: 0.9084, Val Acc: 0.6052\n",
      "[3/30] Train Loss: 0.9299, Train Acc: 0.5913 | Val Loss: 0.9096, Val Acc: 0.6052\n",
      "[4/30] Train Loss: 0.9323, Train Acc: 0.5913 | Val Loss: 0.9097, Val Acc: 0.6052\n",
      "[5/30] Train Loss: 0.9338, Train Acc: 0.5913 | Val Loss: 0.9085, Val Acc: 0.6052\n",
      "[6/30] Train Loss: 0.9316, Train Acc: 0.5913 | Val Loss: 0.9099, Val Acc: 0.6052\n",
      "[7/30] Train Loss: 0.9314, Train Acc: 0.5913 | Val Loss: 0.9092, Val Acc: 0.6052\n",
      "⏹ 조기 종료 발동!\n"
     ]
    },
    {
     "data": {
      "image/png": "[encoded data removed]",
      "text/plain": [
       "<Figure size 800x400 with 1 Axes>"
      ]
     },
     "metadata": {},
     "output_type": "display_data"
    }
   ],
   "source": [
    "#학습\n",
    "\n",
    "import torch\n",
    "import torch.nn as nn\n",
    "import torch.optim as optim\n",
    "from torch.utils.data import DataLoader, TensorDataset, random_split\n",
    "import matplotlib.pyplot as plt\n",
    "\n",
    "\n",
    "\n",
    "device = torch.device(\"cuda\" if torch.cuda.is_available() else \"cpu\")\n",
    "model = model.to(device)\n",
    "\n",
    "\n",
    "criterion = nn.CrossEntropyLoss()\n",
    "optimizer = optim.Adam(model.parameters(), lr=2e-3)\n",
    "\n",
    "\n",
    "def train_model(model, train_loader, val_loader, criterion, optimizer, epochs=20, patience=5):\n",
    "    train_losses, val_losses = [], []\n",
    "    train_accs, val_accs = [], []\n",
    "\n",
    "    best_val_loss = float('inf')\n",
    "    early_stop_counter = 0\n",
    "\n",
    "    for epoch in range(epochs):\n",
    "        # -\n",
    "        model.train()\n",
    "        total_loss, correct, total = 0, 0, 0\n",
    "        for inputs, targets in train_loader:\n",
    "            inputs, targets = inputs.to(device), targets.to(device)\n",
    "\n",
    "            optimizer.zero_grad()\n",
    "            outputs = model(inputs)                  \n",
    "            loss = criterion(outputs, targets)\n",
    "            loss.backward()\n",
    "            optimizer.step()\n",
    "\n",
    "            total_loss += loss.item()\n",
    "            pred = outputs.argmax(dim=1)\n",
    "            correct += (pred == targets).sum().item()\n",
    "            total += targets.size(0)\n",
    "\n",
    "        train_loss = total_loss / len(train_loader)\n",
    "        train_acc = correct / total\n",
    "\n",
    "\n",
    "        model.eval()\n",
    "        val_loss, val_correct, val_total = 0, 0, 0\n",
    "        with torch.no_grad():\n",
    "            for val_inputs, val_targets in val_loader:\n",
    "                val_inputs, val_targets = val_inputs.to(device), val_targets.to(device)\n",
    "                val_outputs = model(val_inputs)\n",
    "                loss = criterion(val_outputs, val_targets)\n",
    "                val_loss += loss.item()\n",
    "\n",
    "                val_pred = val_outputs.argmax(dim=1)\n",
    "                val_correct += (val_pred == val_targets).sum().item()\n",
    "                val_total += val_targets.size(0)\n",
    "\n",
    "        val_loss /= len(val_loader)\n",
    "        val_acc = val_correct / val_total\n",
    "\n",
    "        train_losses.append(train_loss)\n",
    "        val_losses.append(val_loss)\n",
    "        train_accs.append(train_acc)\n",
    "        val_accs.append(val_acc)\n",
    "\n",
    "        print(f\"[{epoch+1}/{epochs}] \"\n",
    "              f\"Train Loss: {train_loss:.4f}, Train Acc: {train_acc:.4f} | \"\n",
    "              f\"Val Loss: {val_loss:.4f}, Val Acc: {val_acc:.4f}\")\n",
    "\n",
    "        # ---- Early stopping ----\n",
    "        if val_loss < best_val_loss:\n",
    "            best_val_loss = val_loss\n",
    "            early_stop_counter = 0\n",
    "            best_state = model.state_dict()\n",
    "        else:\n",
    "            early_stop_counter += 1\n",
    "            if early_stop_counter >= patience:\n",
    "                print(\"⏹ 조기 종료 발동!\")\n",
    "                model.load_state_dict(best_state)\n",
    "                break\n",
    "\n",
    "    # 시각화\n",
    "    history = pd.DataFrame({\n",
    "        \"train_loss\": train_losses,\n",
    "        \"val_loss\": val_losses,\n",
    "        \"train_acc\": train_accs,\n",
    "        \"val_acc\": val_accs\n",
    "    })\n",
    "    history.plot(figsize=(8,4), grid=True, title=\"Training History\")\n",
    "    plt.show()\n",
    "\n",
    "    return model\n",
    "\n",
    "# 실행\n",
    "trained_model = train_model(model, train_loader, val_loader, criterion, optimizer, epochs=30, patience=5)"
   ]
  },
  {
   "cell_type": "markdown",
   "id": "d0b94dc1",
   "metadata": {},
   "source": [
    "### 5. 추론"
   ]
  },
  {
   "cell_type": "code",
   "execution_count": null,
   "id": "97121e02",
   "metadata": {},
   "outputs": [],
   "source": [
    "id_to_label = {0:\"중립😕\", 1:\"부정🥵\", 2:\"긍정😀\"}\n",
    "\n",
    "import numpy as np\n",
    "import torch\n",
    "from tensorflow.keras.preprocessing.sequence import pad_sequences\n",
    "\n",
    "def predict_sentiment(model, tokenizer, sentence, max_len=50, device=\"cpu\"):\n",
    "    model.eval()\n",
    "\n",
    "    # 전처리\n",
    "    tokens = preprocess_korean(sentence)\n",
    "    txt = \" \".join(tokens)\n",
    "    seq = tokenizer.texts_to_sequences([txt])[0]  # 정수 리스트\n",
    "\n",
    "    #확인\n",
    "    print(\"입력 문장:\", sentence)\n",
    "    print(\"전처리 토큰:\", tokens)\n",
    "    print(\"정수 시퀀스:\", seq[:20])\n",
    "\n",
    "    if len(seq) == 0:\n",
    "        oov_idx = tokenizer.word_index.get(\"<OOV>\", 1)\n",
    "        seq = [oov_idx]\n",
    "\n",
    "  \n",
    "    pad = pad_sequences([seq], maxlen=max_len, padding=\"post\", truncating=\"post\")\n",
    "\n",
    "\n",
    "    x = torch.tensor(pad, dtype=torch.long).to(device)\n",
    "    with torch.no_grad():\n",
    "        logits = model(x)                 \n",
    "        probs = torch.softmax(logits, dim=1)[0].cpu().numpy()\n",
    "\n",
    "    pred_idx = int(probs.argmax())\n",
    "    label_map = {0: \"neutral\", 1: \"negative\", 2: \"positive\"}\n",
    "    return label_map[pred_idx], float(probs[pred_idx]), probs"
   ]
  },
  {
   "cell_type": "code",
   "execution_count": 101,
   "id": "c10dbcda",
   "metadata": {},
   "outputs": [
    {
     "name": "stdout",
     "output_type": "stream",
     "text": [
      "입력 문장: 회사가 인수합병을 하면서 주가가 올랐다\n",
      "전처리 토큰: ['회사', '인수합병', '하다', '주가']\n",
      "정수 시퀀스: [7, 1, 2, 182]\n"
     ]
    },
    {
     "data": {
      "text/plain": [
       "('negative',\n",
       " 0.3437672257423401,\n",
       " array([0.31676847, 0.34376723, 0.33946428], dtype=float32))"
      ]
     },
     "execution_count": 101,
     "metadata": {},
     "output_type": "execute_result"
    }
   ],
   "source": [
    "predict_sentiment(lstm_model, tokenizer, \"회사가 인수합병을 하면서 주가가 올랐다\")"
   ]
  },
  {
   "cell_type": "code",
   "execution_count": 77,
   "id": "3265d334",
   "metadata": {},
   "outputs": [
    {
     "name": "stdout",
     "output_type": "stream",
     "text": [
      "\n",
      "문장: 새로운 생산공장으로 회사 수요가 증가를 총족시킬수있다\n",
      "예측 : 부정🥵 (확률=0.3438)\n",
      "전체 확률 분포: 중립😕=0.317, 부정🥵=0.344, 긍정😀=0.339\n",
      "\n",
      "\n",
      "문장: 회사가 인수합병을 하면서 주가가 올랐다\n",
      "예측 : 부정🥵 (확률=0.3438)\n",
      "전체 확률 분포: 중립😕=0.317, 부정🥵=0.344, 긍정😀=0.339\n",
      "\n",
      "\n",
      "문장: 회사가 부도났다\n",
      "예측 : 부정🥵 (확률=0.3438)\n",
      "전체 확률 분포: 중립😕=0.317, 부정🥵=0.344, 긍정😀=0.339\n",
      "\n"
     ]
    }
   ],
   "source": [
    "while True:\n",
    "    input_sentence = input(\"감성 예측할 문장을 입력하세요! (X:종료)\")\n",
    "\n",
    "    if input_sentence.strip().upper() == 'X':\n",
    "        break\n",
    "\n",
    "    label, prob, probs = predict_sentiment(lstm_model, tokenizer, input_sentence, max_len=50)\n",
    "\n",
    "    print(f\"\\n문장: {input_sentence}\")\n",
    "    print(f\"예측 : {label} (확률={prob:.4f})\")\n",
    "    print(f\"전체 확률 분포: 중립😕={probs[0]:.3f}, 부정🥵={probs[1]:.3f}, 긍정😀={probs[2]:.3f}\\n\")"
   ]
  },
  {
   "cell_type": "markdown",
   "id": "79ee2a8d",
   "metadata": {},
   "source": [
    "_____________"
   ]
  },
  {
   "cell_type": "code",
   "execution_count": 102,
   "id": "a63f9590",
   "metadata": {},
   "outputs": [
    {
     "name": "stdout",
     "output_type": "stream",
     "text": [
      "labels\n",
      "0    2879\n",
      "2    1363\n",
      "1     604\n",
      "Name: count, dtype: int64\n",
      "labels\n",
      "0    0.594098\n",
      "2    0.281263\n",
      "1    0.124639\n",
      "Name: proportion, dtype: float64\n"
     ]
    },
    {
     "data": {
      "image/png": "[encoded data removed]",
      "text/plain": [
       "<Figure size 640x480 with 1 Axes>"
      ]
     },
     "metadata": {},
     "output_type": "display_data"
    }
   ],
   "source": [
    "import matplotlib.pyplot as plt\n",
    "\n",
    "# 라벨 분포 확인\n",
    "print(data['labels'].value_counts())\n",
    "\n",
    "# 비율까지 확인\n",
    "print(data['labels'].value_counts(normalize=True))\n",
    "\n",
    "# 시각화 (막대 그래프)\n",
    "data['labels'].value_counts().plot(kind='bar')\n",
    "plt.xticks([0,1,2], ['neutral', 'negative', 'positive'], rotation=0)\n",
    "plt.title(\"Label Distribution\")\n",
    "plt.xlabel(\"Labels\")\n",
    "plt.ylabel(\"Count\")\n",
    "plt.show()"
   ]
  },
  {
   "cell_type": "markdown",
   "id": "19d14e6e",
   "metadata": {},
   "source": [
    "______________"
   ]
  },
  {
   "cell_type": "markdown",
   "id": "7797005b",
   "metadata": {},
   "source": [
    "# 라벨 불균형 보정 => class weigh "
   ]
  }
 ],
 "metadata": {
  "kernelspec": {
   "display_name": "npl_env",
   "language": "python",
   "name": "python3"
  },
  "language_info": {
   "codemirror_mode": {
    "name": "ipython",
    "version": 3
   },
   "file_extension": ".py",
   "mimetype": "text/x-python",
   "name": "python",
   "nbconvert_exporter": "python",
   "pygments_lexer": "ipython3",
   "version": "3.12.11"
  }
 },
 "nbformat": 4,
 "nbformat_minor": 5
}
